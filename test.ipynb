{
 "cells": [
  {
   "cell_type": "code",
   "execution_count": null,
   "metadata": {},
   "outputs": [],
   "source": [
    "from pymoodle import MoodleWebServiceAPIClient\n",
    "jsonobj = {\"moken\":\"\"}\n",
    "moodle = MoodleWebServiceAPIClient(token=jsonobj[\"moken\"],api_base=\"https://lms.ssn.edu.in\")\n",
    "moodle.get_user_courses(userid=moodle.CLIENT_USER_DATA[\"userid\"])"
   ]
  }
 ],
 "metadata": {
  "kernelspec": {
   "display_name": ".venv",
   "language": "python",
   "name": "python3"
  },
  "language_info": {
   "codemirror_mode": {
    "name": "ipython",
    "version": 3
   },
   "file_extension": ".py",
   "mimetype": "text/x-python",
   "name": "python",
   "nbconvert_exporter": "python",
   "pygments_lexer": "ipython3",
   "version": "3.12.7"
  }
 },
 "nbformat": 4,
 "nbformat_minor": 2
}
